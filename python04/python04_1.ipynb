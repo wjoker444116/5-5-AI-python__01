{
 "cells": [
  {
   "cell_type": "code",
   "execution_count": null,
   "metadata": {},
   "outputs": [],
   "source": [
    "import pyinputplus as pypi\n",
    "\n",
    "mun = pypi.inputInt(\"請輸入查詢數值: \",min=1)\n",
    "print(mun)\n",
    "\n",
    "print(f\"{mun}的因數: \",end='')\n",
    "for i in range(1,mun+1):\n",
    "    u = mun%i\n",
    "    if u==0:\n",
    "        print(i ,end=' ')\n",
    "print()\n",
    "print(\"程式結束\")"
   ]
  },
  {
   "cell_type": "code",
   "execution_count": null,
   "metadata": {},
   "outputs": [],
   "source": [
    "for word in \"Hello!\":\n",
    "  print(word)\n"
   ]
  },
  {
   "cell_type": "code",
   "execution_count": null,
   "metadata": {},
   "outputs": [],
   "source": [
    "import random\n",
    "\n",
    "random.random()"
   ]
  },
  {
   "cell_type": "code",
   "execution_count": null,
   "metadata": {},
   "outputs": [],
   "source": [
    "random.uniform(1,10)"
   ]
  },
  {
   "cell_type": "code",
   "execution_count": null,
   "metadata": {},
   "outputs": [],
   "source": [
    "random.randint(1,10)"
   ]
  },
  {
   "cell_type": "code",
   "execution_count": null,
   "metadata": {},
   "outputs": [],
   "source": [
    "import random\n",
    "\n",
    "import pyinputpIus as pypi\n",
    "\n",
    "min:int = 1\n",
    "max:int = 10\n",
    "\n",
    "target:int = random.randint(min,max)\n",
    "print(\"=============猜數字遊戲=============\\n\")\n",
    "while(True):\n",
    "    keyin:int = pypi.inputInt()\n",
    "print(\"遊戲結束\")"
   ]
  },
  {
   "cell_type": "code",
   "execution_count": 18,
   "metadata": {},
   "outputs": [
    {
     "ename": "ModuleNotFoundError",
     "evalue": "No module named 'pyinputplus'",
     "output_type": "error",
     "traceback": [
      "\u001b[0;31m---------------------------------------------------------------------------\u001b[0m",
      "\u001b[0;31mModuleNotFoundError\u001b[0m                       Traceback (most recent call last)",
      "Cell \u001b[0;32mIn[18], line 2\u001b[0m\n\u001b[1;32m      1\u001b[0m \u001b[38;5;28;01mimport\u001b[39;00m \u001b[38;5;21;01mrandom\u001b[39;00m\n\u001b[0;32m----> 2\u001b[0m \u001b[38;5;28;01mimport\u001b[39;00m \u001b[38;5;21;01mpyinputplus\u001b[39;00m \u001b[38;5;28;01mas\u001b[39;00m \u001b[38;5;21;01mpypi\u001b[39;00m\n\u001b[1;32m      4\u001b[0m \u001b[38;5;28mmin\u001b[39m:\u001b[38;5;28mint\u001b[39m \u001b[38;5;241m=\u001b[39m \u001b[38;5;241m1\u001b[39m\n\u001b[1;32m      5\u001b[0m \u001b[38;5;28mmax\u001b[39m:\u001b[38;5;28mint\u001b[39m \u001b[38;5;241m=\u001b[39m \u001b[38;5;241m10\u001b[39m\n",
      "\u001b[0;31mModuleNotFoundError\u001b[0m: No module named 'pyinputplus'"
     ]
    }
   ],
   "source": [
    "import random\n",
    "import pyinputplus as pypi\n",
    "\n",
    "min:int = 1\n",
    "max:int = 10\n",
    "\n",
    "target:int = random.randint(min,max)\n",
    "print(\"===========猜數字遊戲==================\\n\")\n",
    "while(True):\n",
    "    keyin:int = pypi.inputInt(f\"猜數字範圍{min}~{max}:\",min=min,max=max)\n",
    "    print(keyin)\n",
    "    break\n",
    "\n",
    "print(\"遊戲結束\")"
   ]
  }
 ],
 "metadata": {
  "kernelspec": {
   "display_name": "Python 3",
   "language": "python",
   "name": "python3"
  },
  "language_info": {
   "codemirror_mode": {
    "name": "ipython",
    "version": 3
   },
   "file_extension": ".py",
   "mimetype": "text/x-python",
   "name": "python",
   "nbconvert_exporter": "python",
   "pygments_lexer": "ipython3",
   "version": "3.10.14"
  }
 },
 "nbformat": 4,
 "nbformat_minor": 2
}
