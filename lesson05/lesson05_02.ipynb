{
 "cells": [
  {
   "cell_type": "code",
   "execution_count": 3,
   "metadata": {},
   "outputs": [
    {
     "name": "stdout",
     "output_type": "stream",
     "text": [
      "<class '__main__.Person'>\n",
      "<class '__main__.Person'>\n"
     ]
    }
   ],
   "source": [
    "class Person():\n",
    "    pass\n",
    "\n",
    "p1:Person = Person()\n",
    "print(type(p1))\n",
    "\n",
    "p2:Person = Person()\n",
    "print(type(p2))"
   ]
  },
  {
   "cell_type": "code",
   "execution_count": 4,
   "metadata": {},
   "outputs": [
    {
     "name": "stdout",
     "output_type": "stream",
     "text": [
      "Warter\n",
      "robert\n"
     ]
    }
   ],
   "source": [
    "#建立實體的attribute(屬性)\n",
    "class Person():\n",
    "    def __init__(self,n:str):\n",
    "        self.name = n\n",
    "\n",
    "p1:Person = Person(\"Warter\")\n",
    "print(p1.name)\n",
    "\n",
    "p2:Person = Person(\"robert\")\n",
    "print(p2.name)"
   ]
  },
  {
   "cell_type": "code",
   "execution_count": 6,
   "metadata": {},
   "outputs": [],
   "source": [
    "#建立實體的attribute(屬性)\n",
    "class Person():\n",
    "    def __init__(self,n:str): #自訂的init\n",
    "        self.name = n\n",
    "\n",
    "    def __repr__(self) -> str:\n",
    "        return f'我的名字叫{self.name}'"
   ]
  },
  {
   "cell_type": "code",
   "execution_count": 7,
   "metadata": {},
   "outputs": [
    {
     "name": "stdout",
     "output_type": "stream",
     "text": [
      "Warter\n",
      "我的名字叫Warter\n",
      "robert\n",
      "我的名字叫robert\n"
     ]
    }
   ],
   "source": [
    "p1:Person = Person(\"Warter\")\n",
    "print(p1.name)\n",
    "print(p1)\n",
    "\n",
    "p2:Person = Person(\"robert\")\n",
    "print(p2.name)\n",
    "print(p2)"
   ]
  },
  {
   "cell_type": "code",
   "execution_count": 8,
   "metadata": {},
   "outputs": [
    {
     "name": "stdout",
     "output_type": "stream",
     "text": [
      "<class '__main__.Student'>\n",
      "Warter\n",
      "我的名字叫Warter\n",
      "<class '__main__.Student'>\n",
      "robert\n",
      "我的名字叫robert\n"
     ]
    }
   ],
   "source": [
    "#繼承\n",
    "class Student(Person):\n",
    "    pass\n",
    "s1 = Student(n=\"Warter\")\n",
    "print(type(s1))\n",
    "print(s1.name)\n",
    "print(s1)\n",
    "\n",
    "s2 = Student(n=\"robert\")\n",
    "print(type(s2))\n",
    "print(s2.name)\n",
    "print(s2)"
   ]
  },
  {
   "cell_type": "code",
   "execution_count": 10,
   "metadata": {},
   "outputs": [
    {
     "name": "stdout",
     "output_type": "stream",
     "text": [
      "<class '__main__.Student'>\n",
      "Warter 67 96 65\n",
      "我的名字叫Warter\n",
      "<class '__main__.Student'>\n",
      "Warter 91 85 95\n",
      "我的名字叫Warter\n"
     ]
    }
   ],
   "source": [
    "#建立實體的attribute(屬性)\n",
    "class Person():\n",
    "    def __init__(self,n:str): #自訂的init\n",
    "        self.name = n\n",
    "\n",
    "    def __repr__(self) -> str:\n",
    "        return f'我的名字叫{self.name}'\n",
    "\n",
    "#繼承\n",
    "class Student(Person):\n",
    "    def __init__(self,n:str,ch:int,en:int,ma:int):\n",
    "        super().__init__(n) #執行父類別的init\n",
    "        self.chinese = ch\n",
    "        self.english = en\n",
    "        self.math = ma\n",
    "s1 = Student(n=\"Warter\",ch=67,en=96,ma=65)\n",
    "print(type(s1))\n",
    "print(s1.name,s1.chinese,s1.english,s1.math)\n",
    "print(s1)\n",
    "\n",
    "s2 = Student(n=\"Warter\",ch=91,en=85,ma=95)\n",
    "print(type(s2))\n",
    "print(s2.name,s2.chinese,s2.english,s2.math)\n",
    "print(s2)"
   ]
  },
  {
   "cell_type": "code",
   "execution_count": 11,
   "metadata": {},
   "outputs": [
    {
     "name": "stdout",
     "output_type": "stream",
     "text": [
      "<class '__main__.Student'>\n",
      "Warter 67 96 65\n",
      "我的名字叫Warter\n",
      "<class '__main__.Student'>\n",
      "Warter 91 85 95\n",
      "我的名字叫Warter\n"
     ]
    }
   ],
   "source": [
    "s1 = Student(n=\"Warter\",ch=67,en=96,ma=65)\n",
    "print(type(s1))\n",
    "print(s1.name,s1.chinese,s1.english,s1.math)\n",
    "print(s1)\n",
    "\n",
    "s2 = Student(n=\"Warter\",ch=91,en=85,ma=95)\n",
    "print(type(s2))\n",
    "print(s2.name,s2.chinese,s2.english,s2.math)\n",
    "print(s2)"
   ]
  },
  {
   "cell_type": "code",
   "execution_count": 16,
   "metadata": {},
   "outputs": [],
   "source": [
    "#建立實體的attribute(屬性)\n",
    "class Person():\n",
    "    def __init__(self,n:str): #自訂的init\n",
    "        self.name = n\n",
    "\n",
    "    def __repr__(self) -> str:\n",
    "        return f'我的名字叫{self.name}'\n",
    "\n",
    "#繼承-不可以更改的property(屬性)\n",
    "class Student(Person):\n",
    "    def __init__(self,n:str,ch:int,en:int,ma:int):\n",
    "        super().__init__(n) #執行父類別的init\n",
    "        self.__chinese = ch\n",
    "        self.__english = en\n",
    "        self.__math = ma\n",
    "\n",
    "    @property\n",
    "    def chinese(self) -> int:\n",
    "        return self.__chinese\n",
    "    \n",
    "    @property\n",
    "    def english(self) -> int:\n",
    "        return self.__english\n",
    "    \n",
    "    @property\n",
    "    def math(self) -> int:\n",
    "        return self.__math\n",
    "    \n",
    "    def __repr__(self) -> str:\n",
    "        message:str = super().__repr__()\n",
    "        message += \"\\n我是一個學生\"\n",
    "        return message\n"
   ]
  },
  {
   "cell_type": "code",
   "execution_count": 18,
   "metadata": {},
   "outputs": [
    {
     "name": "stdout",
     "output_type": "stream",
     "text": [
      "<class '__main__.Student'>\n",
      "Warter 88 96 65\n",
      "我的名字叫Warter\n",
      "我是一個學生\n",
      "<class '__main__.Student'>\n",
      "Warter 91 85 95\n",
      "我的名字叫Warter\n",
      "我是一個學生\n"
     ]
    }
   ],
   "source": [
    "s1 = Student(n=\"Warter\",ch=88,en=96,ma=65)\n",
    "print(type(s1))\n",
    "print(s1.name,s1.chinese,s1.english,s1.math)\n",
    "print(s1)\n",
    "\n",
    "s2 = Student(n=\"Warter\",ch=91,en=85,ma=95)\n",
    "print(type(s2))\n",
    "print(s2.name,s2.chinese,s2.english,s2.math)\n",
    "print(s2)"
   ]
  },
  {
   "cell_type": "code",
   "execution_count": 19,
   "metadata": {},
   "outputs": [],
   "source": [
    "#建立實體的attribute(屬性)\n",
    "class Person():\n",
    "    def __init__(self,n:str): #自訂的init\n",
    "        self.name = n\n",
    "\n",
    "    def __repr__(self) -> str:\n",
    "        return f'我的名字叫{self.name}'\n",
    "\n",
    "#繼承-不可以更改的property(屬性)\n",
    "class Student(Person):\n",
    "    def __init__(self,n:str,ch:int,en:int,ma:int):\n",
    "        super().__init__(n) #執行父類別的init\n",
    "        self.__chinese = ch\n",
    "        self.__english = en\n",
    "        self.__math = ma\n",
    "\n",
    "    @property\n",
    "    def chinese(self) -> int:\n",
    "        return self.__chinese\n",
    "    \n",
    "    @property\n",
    "    def english(self) -> int:\n",
    "        return self.__english\n",
    "    \n",
    "    @property\n",
    "    def math(self) -> int:\n",
    "        return self.__math\n",
    "    \n",
    "    def __repr__(self) -> str:\n",
    "        message:str = super().__repr__()\n",
    "        message += \"\\n我是一個學生\"\n",
    "        return message\n",
    "    \n",
    "    def sum(self)->int:#實體的method\n",
    "        return self.chinese + self.english + self.math\n",
    "    \n",
    "    def average(self)->float:#實體的method\n",
    "        return round(self.sum()/3.0,ndigits=2)"
   ]
  },
  {
   "cell_type": "code",
   "execution_count": 20,
   "metadata": {},
   "outputs": [
    {
     "name": "stdout",
     "output_type": "stream",
     "text": [
      "<class '__main__.Student'>\n",
      "Warter 88 96 65\n",
      "我的名字叫Warter\n",
      "我是一個學生\n",
      "s1的總分是249\n",
      "s1的平均是83.0\n",
      "=====================================\n",
      "<class '__main__.Student'>\n",
      "Warter 91 85 95\n",
      "我的名字叫Warter\n",
      "我是一個學生\n",
      "s2的總分是271\n",
      "s2的平均是90.33\n"
     ]
    }
   ],
   "source": [
    "s1 = Student(n=\"Warter\",ch=88,en=96,ma=65)\n",
    "print(type(s1))\n",
    "print(s1.name,s1.chinese,s1.english,s1.math)\n",
    "print(s1)\n",
    "print(f\"s1的總分是{s1.sum()}\")\n",
    "print(f\"s1的平均是{s1.average()}\")\n",
    "print(\"=====================================\")\n",
    "s2 = Student(n=\"Warter\",ch=91,en=85,ma=95)\n",
    "print(type(s2))\n",
    "print(s2.name,s2.chinese,s2.english,s2.math)\n",
    "print(s2)\n",
    "print(f\"s2的總分是{s2.sum()}\")\n",
    "print(f\"s2的平均是{s2.average()}\")"
   ]
  }
 ],
 "metadata": {
  "kernelspec": {
   "display_name": "Python 3",
   "language": "python",
   "name": "python3"
  },
  "language_info": {
   "codemirror_mode": {
    "name": "ipython",
    "version": 3
   },
   "file_extension": ".py",
   "mimetype": "text/x-python",
   "name": "python",
   "nbconvert_exporter": "python",
   "pygments_lexer": "ipython3",
   "version": "3.10.14"
  }
 },
 "nbformat": 4,
 "nbformat_minor": 2
}
