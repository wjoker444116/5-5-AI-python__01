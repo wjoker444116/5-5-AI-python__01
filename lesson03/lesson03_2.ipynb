{
 "cells": [
  {
   "cell_type": "code",
   "execution_count": null,
   "metadata": {},
   "outputs": [],
   "source": [
    "import pyinputplus as pypi\n",
    "\n",
    "value = pypi.inputInt(\"請輸入整數:\",min=0,max=300)\n",
    "print(value)"
   ]
  },
  {
   "cell_type": "code",
   "execution_count": null,
   "metadata": {},
   "outputs": [],
   "source": [
    "#學生的總分為300\n",
    "#有些學生可以加分5%\n",
    "#如果加分超過300,就以300分為準\n",
    "#raise Exception()\n",
    "\n",
    "scores = pypi.inputInt(\"請輸入學生分數(最高300分):\",min=0,max=300)\n",
    "print(scores)     \n",
    "is_add = input(\"學生是否符合加分條件?(y,n)\")\n",
    "if is_add == \"y\":\n",
    "    scores *= 1.05\n",
    "    if scores > 300:\n",
    "        scores = 300\n",
    "\n",
    "print(f\"學生分數是:{round(scores,ndigits=0)}\")    \n",
    "print(\"應用程式結束\")"
   ]
  },
  {
   "cell_type": "code",
   "execution_count": null,
   "metadata": {},
   "outputs": [],
   "source": [
    "#請加總數值1~5\n",
    "\n",
    "total = 0\n",
    "total += 1\n",
    "total += 2\n",
    "total += 3\n",
    "total += 4\n",
    "total += 5\n",
    "print(total)"
   ]
  },
  {
   "cell_type": "code",
   "execution_count": null,
   "metadata": {},
   "outputs": [],
   "source": [
    "for i in range(5):\n",
    "    print(i,end=' ')\n",
    "print()\n",
    "for i in range(1,10):\n",
    "    print(i,end=' ')\n",
    "print()\n",
    "for i in range(1,10,2):\n",
    "    print(i,end=' ')"
   ]
  },
  {
   "cell_type": "code",
   "execution_count": null,
   "metadata": {},
   "outputs": [],
   "source": [
    "import pyinputplus as pypi\n",
    "\n",
    "n = pypi.inputInt(\"請加總1~x的值\",min=10,max=300)\n",
    "print(n)\n",
    "total = 0\n",
    "for i in range(1,n+1):\n",
    "    total += i\n",
    "print(f\"加總1~{n}的總值是{total}\")"
   ]
  },
  {
   "cell_type": "code",
   "execution_count": null,
   "metadata": {},
   "outputs": [],
   "source": [
    "#巢狀迴圈\n",
    "\n",
    "for i in range(1,10):\n",
    "    print(f\"i={i}\",end=' ')\n",
    "    print()\n",
    "    for j in range(1,10):\n",
    "        print(f\"j={j}\",end=' ')\n",
    "    print(\"\\n===========\")"
   ]
  },
  {
   "cell_type": "code",
   "execution_count": null,
   "metadata": {},
   "outputs": [],
   "source": [
    "#巢狀迴圈\n",
    "\n",
    "for i in range(1,10):    \n",
    "    for j in range(1,10):\n",
    "        print(f\"{i:<2d}*{j:2d} ={i*j:2d}\",end='  ')\n",
    "    print()"
   ]
  },
  {
   "cell_type": "code",
   "execution_count": null,
   "metadata": {},
   "outputs": [],
   "source": [
    "#小明想要存錢買一輛機車,機車每輛30000元，他將每月存的錢輸入，當存款足夠買機車時，就顯示提示訊息告知。\n",
    "import pyinputplus as pyip\n",
    "\n",
    "deposit = 1000\n",
    "num = 30\n",
    "while deposit < 30000:\n",
    "    num += 1\n",
    "    input_value = pyip.inputInt(f\"請輸入第{num}月儲存的金額:\")\n",
    "    print(input_value)\n",
    "    deposit += input_value\n",
    "\n",
    "print(f\"您已經存了{deposit}元,共存了{num}個月\")"
   ]
  }
 ],
 "metadata": {
  "kernelspec": {
   "display_name": "Python 3",
   "language": "python",
   "name": "python3"
  },
  "language_info": {
   "codemirror_mode": {
    "name": "ipython",
    "version": 3
   },
   "file_extension": ".py",
   "mimetype": "text/x-python",
   "name": "python",
   "nbconvert_exporter": "python",
   "pygments_lexer": "ipython3",
   "version": "3.10.14"
  }
 },
 "nbformat": 4,
 "nbformat_minor": 2
}
