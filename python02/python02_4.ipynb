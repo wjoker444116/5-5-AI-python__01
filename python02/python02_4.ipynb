{
 "cells": [
  {
   "cell_type": "code",
   "execution_count": 1,
   "metadata": {},
   "outputs": [
    {
     "name": "stdout",
     "output_type": "stream",
     "text": [
      "15\n"
     ]
    }
   ],
   "source": [
    "n = 10\n",
    "n *= 5 #複合指定運算子\n",
    "print(n)"
   ]
  },
  {
   "cell_type": "code",
   "execution_count": 2,
   "metadata": {},
   "outputs": [
    {
     "name": "stdout",
     "output_type": "stream",
     "text": [
      "55.78+462.2+5589.22=6107.2\n"
     ]
    }
   ],
   "source": [
    "#請以(複合指定運算子)設計程式,讓使用者輸入三個任意數，程式會顯示3數相加總合(float)\n",
    "total=0\n",
    "\n",
    "value1 = float(input(\"請輸入第一個數:\"))\n",
    "total += value1\n",
    "\n",
    "value2 = float(input(\"請輸入第二個數:\"))\n",
    "total += value2\n",
    "\n",
    "value3 = float(input(\"請輸入第三個數:\"))\n",
    "total += value3\n",
    "\n",
    "print(f\"{value1}+{value2}+{value3}={round(total,ndigits=2)}\")\n"
   ]
  }
 ],
 "metadata": {
  "kernelspec": {
   "display_name": "Python 3",
   "language": "python",
   "name": "python3"
  },
  "language_info": {
   "codemirror_mode": {
    "name": "ipython",
    "version": 3
   },
   "file_extension": ".py",
   "mimetype": "text/x-python",
   "name": "python",
   "nbconvert_exporter": "python",
   "pygments_lexer": "ipython3",
   "version": "3.10.14"
  }
 },
 "nbformat": 4,
 "nbformat_minor": 2
}
