{
 "cells": [
  {
   "cell_type": "code",
   "execution_count": 2,
   "metadata": {},
   "outputs": [
    {
     "name": "stdout",
     "output_type": "stream",
     "text": [
      "values1的平均是7\n",
      "values1的標準差是5.94418483337567\n",
      "==========================\n",
      "values2的平均是7\n",
      "values2的標準差是1.8257418583505538\n"
     ]
    }
   ],
   "source": [
    "#標準函式庫(module)\n",
    "\n",
    "import statistics\n",
    "\n",
    "values1 = [0,5,9,14]\n",
    "values2 = [5,6,8,9]\n",
    "\n",
    "average1 = statistics.mean(values1)\n",
    "average2 = statistics.mean(values2)\n",
    "std1 = statistics.stdev(values1)\n",
    "std2 = statistics.stdev(values2)\n",
    "\n",
    "print(f\"values1的平均是{average1}\")\n",
    "print(f\"values1的標準差是{std1}\")\n",
    "print(\"==========================\")\n",
    "print(f\"values2的平均是{average2}\")\n",
    "print(f\"values2的標準差是{std2}\")"
   ]
  }
 ],
 "metadata": {
  "kernelspec": {
   "display_name": "Python 3",
   "language": "python",
   "name": "python3"
  },
  "language_info": {
   "codemirror_mode": {
    "name": "ipython",
    "version": 3
   },
   "file_extension": ".py",
   "mimetype": "text/x-python",
   "name": "python",
   "nbconvert_exporter": "python",
   "pygments_lexer": "ipython3",
   "version": "3.10.14"
  }
 },
 "nbformat": 4,
 "nbformat_minor": 2
}
