{
 "cells": [
  {
   "cell_type": "code",
   "execution_count": 1,
   "metadata": {},
   "outputs": [
    {
     "name": "stdout",
     "output_type": "stream",
     "text": [
      "請輸入您的姓名: Warter\n",
      "請輸入您的身高(cm): 172\n",
      "請輸入您的體重(kg): 52\n",
      "您的姓名是: Warter\n",
      "您的BMI值: 18.0\n",
      "您的體重: 過輕\n"
     ]
    }
   ],
   "source": [
    "import pyinputplus as pypi\n",
    "\n",
    "name = pypi.inputStr(\"請輸入您的姓名: \")\n",
    "print(name)\n",
    "cm = pypi.inputInt(\"請輸入您的身高(cm): \",min=0,max=300)\n",
    "print(cm)\n",
    "kg = pypi.inputInt(\"請輸入您的體重(kg): \",min=0,max=300)\n",
    "print(kg)\n",
    "\n",
    "def cal_bmi(cm:int, kg:int):\n",
    "    bmi = kg / (cm/100) ** 2\n",
    "    return bmi\n",
    "def get_status(bmi:float):\n",
    "    if bmi >= 35:\n",
    "        result = \"重度肥胖\"\n",
    "    elif bmi >= 30:\n",
    "        result = \"中度肥胖\"\n",
    "    elif bmi >= 27:\n",
    "        result = \"輕度肥胖\"\n",
    "    elif bmi >= 24:\n",
    "        result = \"過重\"\n",
    "    elif bmi >= 18.5:\n",
    "        result = \"正常\"\n",
    "    else:\n",
    "        result = \"過輕\"\n",
    "    return result\n",
    "\n",
    "bmi = cal_bmi(cm=cm, kg=kg)\n",
    "result = get_status(bmi=bmi)\n",
    "\n",
    "print(f\"您的姓名是: {name}\")\n",
    "print(f\"您的BMI值: {round(bmi,ndigits=0)}\")\n",
    "print(f\"您的體重: {result}\")"
   ]
  }
 ],
 "metadata": {
  "kernelspec": {
   "display_name": "Python 3",
   "language": "python",
   "name": "python3"
  },
  "language_info": {
   "codemirror_mode": {
    "name": "ipython",
    "version": 3
   },
   "file_extension": ".py",
   "mimetype": "text/x-python",
   "name": "python",
   "nbconvert_exporter": "python",
   "pygments_lexer": "ipython3",
   "version": "3.10.14"
  }
 },
 "nbformat": 4,
 "nbformat_minor": 2
}
