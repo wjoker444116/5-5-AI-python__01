{
 "cells": [
  {
   "cell_type": "code",
   "execution_count": 28,
   "metadata": {},
   "outputs": [
    {
     "name": "stdout",
     "output_type": "stream",
     "text": [
      "姓名:Warter 體重:55.0 身高:172.0\n",
      "BMI值:18.59  體態:正常\n"
     ]
    }
   ],
   "source": [
    "name = input(\"您的姓名\")\n",
    "height = float(input(\"請輸入您的身高\"))\n",
    "weight = float(input(\"請輸入您的體重\"))\n",
    "bmi = float(round((weight/(height/100)**2),ndigits=2))\n",
    "\n",
    "a , b , c , d , e = 18.5 , 24 , 27 , 30 , 35\n",
    "if bmi < a: \n",
    "    result = \"體重過輕\" \n",
    "elif a <= bmi < b:\n",
    "    result = \"正常\"\n",
    "elif b < bmi <= c:\n",
    "    result = \"過重\"\n",
    "elif c < bmi <= d:\n",
    "    result = \"輕度肥胖\"\n",
    "elif d < bmi <= e:\n",
    "    result = \"中度肥胖\"\n",
    "else:\n",
    "    result = \"重度肥胖\" \n",
    "\n",
    "print(f\"姓名:{name} 體重:{weight} 身高:{height}\")\n",
    "print(f\"BMI值:{bmi}  體態:{result}\")\n"
   ]
  }
 ],
 "metadata": {
  "kernelspec": {
   "display_name": "Python 3",
   "language": "python",
   "name": "python3"
  },
  "language_info": {
   "codemirror_mode": {
    "name": "ipython",
    "version": 3
   },
   "file_extension": ".py",
   "mimetype": "text/x-python",
   "name": "python",
   "nbconvert_exporter": "python",
   "pygments_lexer": "ipython3",
   "version": "3.10.14"
  }
 },
 "nbformat": 4,
 "nbformat_minor": 2
}
